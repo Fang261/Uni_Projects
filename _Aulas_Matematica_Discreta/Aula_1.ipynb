{
 "cells": [
  {
   "cell_type": "code",
   "execution_count": 1,
   "id": "9dbe467b-b167-4a6c-be6b-c65150e2f48a",
   "metadata": {},
   "outputs": [
    {
     "data": {
      "text/plain": [
       "4"
      ]
     },
     "execution_count": 1,
     "metadata": {},
     "output_type": "execute_result"
    }
   ],
   "source": [
    "# Para fazer comentários\n",
    "2+2 #Outro comentário"
   ]
  },
  {
   "cell_type": "code",
   "execution_count": 2,
   "id": "e10e2eab-718d-4676-8169-9b7343411193",
   "metadata": {},
   "outputs": [],
   "source": [
    "from IPython.core.interactiveshell import InteractiveShell\n",
    "InteractiveShell.ast_node_interactivity = \"all\"\n"
   ]
  },
  {
   "cell_type": "code",
   "execution_count": 3,
   "id": "a9d6a17d-6cb6-48d3-871a-fb59b4e3d264",
   "metadata": {},
   "outputs": [
    {
     "data": {
      "text/plain": [
       "4"
      ]
     },
     "execution_count": 3,
     "metadata": {},
     "output_type": "execute_result"
    },
    {
     "data": {
      "text/plain": [
       "7"
      ]
     },
     "execution_count": 3,
     "metadata": {},
     "output_type": "execute_result"
    }
   ],
   "source": [
    "2+2\n",
    "2+5"
   ]
  },
  {
   "cell_type": "code",
   "execution_count": 4,
   "id": "b8583472-1d4a-47e4-bc3a-647e0cbc530e",
   "metadata": {},
   "outputs": [],
   "source": [
    "from math import sqrt"
   ]
  },
  {
   "cell_type": "code",
   "execution_count": 5,
   "id": "abbbcdf6-a2d8-40b4-a9e6-b3e5864ade5e",
   "metadata": {},
   "outputs": [
    {
     "data": {
      "text/plain": [
       "4.0"
      ]
     },
     "execution_count": 5,
     "metadata": {},
     "output_type": "execute_result"
    }
   ],
   "source": [
    "sqrt(16)\n"
   ]
  },
  {
   "cell_type": "code",
   "execution_count": 6,
   "id": "ae0b7bb9-f586-4490-89be-cb192d16c7eb",
   "metadata": {},
   "outputs": [],
   "source": [
    "a=1\n",
    "b=2\n"
   ]
  },
  {
   "cell_type": "code",
   "execution_count": 7,
   "id": "2e874b73-821e-4d63-949a-35f995110345",
   "metadata": {},
   "outputs": [],
   "source": [
    "a+=1\n",
    "b+=a"
   ]
  },
  {
   "cell_type": "code",
   "execution_count": 8,
   "id": "6bb7f3dd-9e95-490b-be89-9cfeae5a5d5f",
   "metadata": {},
   "outputs": [
    {
     "data": {
      "text/plain": [
       "2"
      ]
     },
     "execution_count": 8,
     "metadata": {},
     "output_type": "execute_result"
    }
   ],
   "source": [
    "a"
   ]
  },
  {
   "cell_type": "code",
   "execution_count": 9,
   "id": "1fdc68fc-62d2-40a3-8981-cbe1c6e38655",
   "metadata": {},
   "outputs": [
    {
     "data": {
      "text/plain": [
       "4"
      ]
     },
     "execution_count": 9,
     "metadata": {},
     "output_type": "execute_result"
    }
   ],
   "source": [
    "b"
   ]
  },
  {
   "cell_type": "code",
   "execution_count": 12,
   "id": "ec3b2238-c90a-4c4b-ba52-788051cb9bdd",
   "metadata": {},
   "outputs": [
    {
     "data": {
      "text/plain": [
       "True"
      ]
     },
     "execution_count": 12,
     "metadata": {},
     "output_type": "execute_result"
    }
   ],
   "source": [
    "a==2 and b==4\n"
   ]
  },
  {
   "cell_type": "code",
   "execution_count": 16,
   "id": "abad9f25-e38a-47cc-9a2d-36314924e649",
   "metadata": {},
   "outputs": [],
   "source": [
    "def soma(a, b):\n",
    "    return a+b\n",
    "    "
   ]
  },
  {
   "cell_type": "code",
   "execution_count": 17,
   "id": "6702c7bf-1508-40ac-8f8b-7d918c542c41",
   "metadata": {},
   "outputs": [
    {
     "data": {
      "text/plain": [
       "6"
      ]
     },
     "execution_count": 17,
     "metadata": {},
     "output_type": "execute_result"
    }
   ],
   "source": [
    "soma(a, b)\n"
   ]
  },
  {
   "cell_type": "code",
   "execution_count": 23,
   "id": "0eb7b727-58ba-414a-93ae-a68c4f260b70",
   "metadata": {},
   "outputs": [],
   "source": [
    "def Maior(a, b):\n",
    "    if a>b:\n",
    "        return 'a'\n",
    "    else:\n",
    "        return 'b'"
   ]
  },
  {
   "cell_type": "markdown",
   "id": "822ed9e0-b479-4272-8f32-cb2d38b2617d",
   "metadata": {},
   "source": [
    "Maior (a, b)\n"
   ]
  },
  {
   "cell_type": "code",
   "execution_count": 24,
   "id": "b4f7cf31-9e84-4047-a3a3-41ea89e31289",
   "metadata": {},
   "outputs": [
    {
     "data": {
      "text/plain": [
       "'b'"
      ]
     },
     "execution_count": 24,
     "metadata": {},
     "output_type": "execute_result"
    }
   ],
   "source": [
    "Maior(a, b)"
   ]
  },
  {
   "cell_type": "code",
   "execution_count": 52,
   "id": "dfb4b5bd-eb5c-4144-b26c-0333cf23db0c",
   "metadata": {},
   "outputs": [],
   "source": [
    "def avaliacao(a):\n",
    "    if a<=6 and a>=0:\n",
    "        return \"Excluido\"\n",
    "        \n",
    "    elif a<10 and a>=0:\n",
    "        return \"Negativa\"\n",
    "        \n",
    "    elif a>=10 and a<=20:\n",
    "        return \"Positiva\"\n",
    "        \n",
    "    else:\n",
    "        return \"ERRO: Nota inválida\"\n",
    "\n"
   ]
  },
  {
   "cell_type": "code",
   "execution_count": 48,
   "id": "7470306d-8104-42da-b34d-dfabcd70fec7",
   "metadata": {},
   "outputs": [
    {
     "data": {
      "text/plain": [
       "'Excluido'"
      ]
     },
     "execution_count": 48,
     "metadata": {},
     "output_type": "execute_result"
    }
   ],
   "source": [
    "avaliacao(20)"
   ]
  },
  {
   "cell_type": "code",
   "execution_count": 53,
   "id": "288ce684-526f-4562-b26c-7e9c68af686c",
   "metadata": {},
   "outputs": [
    {
     "data": {
      "text/plain": [
       "'Excluido'"
      ]
     },
     "execution_count": 53,
     "metadata": {},
     "output_type": "execute_result"
    },
    {
     "data": {
      "text/plain": [
       "'Positiva'"
      ]
     },
     "execution_count": 53,
     "metadata": {},
     "output_type": "execute_result"
    },
    {
     "data": {
      "text/plain": [
       "'Negativa'"
      ]
     },
     "execution_count": 53,
     "metadata": {},
     "output_type": "execute_result"
    },
    {
     "data": {
      "text/plain": [
       "'Excluido'"
      ]
     },
     "execution_count": 53,
     "metadata": {},
     "output_type": "execute_result"
    },
    {
     "data": {
      "text/plain": [
       "'Excluido'"
      ]
     },
     "execution_count": 53,
     "metadata": {},
     "output_type": "execute_result"
    },
    {
     "data": {
      "text/plain": [
       "'ERRO: Nota inválida'"
      ]
     },
     "execution_count": 53,
     "metadata": {},
     "output_type": "execute_result"
    }
   ],
   "source": [
    "avaliacao(0)\n",
    "avaliacao(10)\n",
    "avaliacao(9)\n",
    "avaliacao(6)\n",
    "avaliacao(1)\n",
    "avaliacao(21)"
   ]
  },
  {
   "cell_type": "code",
   "execution_count": 2,
   "id": "f412166e-fd9c-49a4-b6b3-e0900de527f3",
   "metadata": {},
   "outputs": [],
   "source": [
    "def Conta_Positivos(lista):\n",
    "    i=0\n",
    "    cont=0\n",
    "\n",
    "    while lista[i]!=0 and i<len(lista):\n",
    "        if lista[i]>0:\n",
    "            cont+=1\n",
    "        i+=1\n",
    "    return cont"
   ]
  },
  {
   "cell_type": "code",
   "execution_count": 5,
   "id": "b90399d5-630b-4808-ad13-89d3bf14e6c2",
   "metadata": {},
   "outputs": [],
   "source": [
    "def Soma_pares(lista):\n",
    "    i=0\n",
    "    cont=0\n",
    "\n",
    "    while i<len(lista) and lista[i]>=0:\n",
    "        if lista[i]%2==0:\n",
    "            cont+=lista[i]\n",
    "        i+=1\n",
    "    return cont"
   ]
  },
  {
   "cell_type": "code",
   "execution_count": 7,
   "id": "d2e9e64b-7bee-49c1-9afb-c2318b075ce4",
   "metadata": {},
   "outputs": [
    {
     "data": {
      "text/plain": [
       "14"
      ]
     },
     "execution_count": 7,
     "metadata": {},
     "output_type": "execute_result"
    }
   ],
   "source": [
    "Soma_pares([4,5,8,2,3,-1,0,2])"
   ]
  },
  {
   "cell_type": "code",
   "execution_count": null,
   "id": "ac024363-7788-46e1-b9a5-64f2069d7185",
   "metadata": {},
   "outputs": [],
   "source": []
  }
 ],
 "metadata": {
  "kernelspec": {
   "display_name": "Python 3 (ipykernel)",
   "language": "python",
   "name": "python3"
  },
  "language_info": {
   "codemirror_mode": {
    "name": "ipython",
    "version": 3
   },
   "file_extension": ".py",
   "mimetype": "text/x-python",
   "name": "python",
   "nbconvert_exporter": "python",
   "pygments_lexer": "ipython3",
   "version": "3.11.5"
  }
 },
 "nbformat": 4,
 "nbformat_minor": 5
}
