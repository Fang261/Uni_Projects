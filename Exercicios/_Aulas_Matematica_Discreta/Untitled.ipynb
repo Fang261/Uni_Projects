{
 "cells": [
  {
   "cell_type": "code",
   "execution_count": 2,
   "id": "ac7ed71c-5826-4617-a0eb-6db63b734db3",
   "metadata": {},
   "outputs": [],
   "source": [
    "from IPython.core.interactiveshell import InteractiveShell\n",
    "InteractiveShell.ast_node_interactivity = \"all\""
   ]
  },
  {
   "cell_type": "code",
   "execution_count": 3,
   "id": "93f89748-8369-4f15-b4bd-c4a8b7c631a3",
   "metadata": {},
   "outputs": [],
   "source": [
    "from math import sin, pi"
   ]
  },
  {
   "cell_type": "code",
   "execution_count": 4,
   "id": "1e82ed55-db09-4177-9b6e-6b8f348e0410",
   "metadata": {},
   "outputs": [],
   "source": [
    "def AuxFunc(x):\n",
    "    return sin(x)/x"
   ]
  },
  {
   "cell_type": "code",
   "execution_count": 5,
   "id": "2b660dc9-a617-45ec-811f-ba3da0194112",
   "metadata": {},
   "outputs": [],
   "source": [
    "def MidPoint(f, x0, xf, n):\n",
    "    \"\"\"\n",
    "     f: função a integrar\n",
    "    x0: inicio do intervalo de integração\n",
    "    xf: fim do interval de integração\n",
    "     n: número de subintervalos de integração\n",
    "    \"\"\"\n",
    "\n",
    "    # A soma das subáreas\n",
    "    soma = 0\n",
    "    \n",
    "    # O tamanho dos intervalos de integração\n",
    "    dx = (xf-x0)/n\n",
    "    \n",
    "    # O primerio ponto médio\n",
    "    x = x0+dx/2\n",
    "    \n",
    "    i = 0\n",
    "    while i<n:\n",
    "        soma += f(x)*dx\n",
    "        \n",
    "        x += dx\n",
    "        i += 1\n",
    "    \n",
    "    return soma"
   ]
  },
  {
   "cell_type": "code",
   "execution_count": 13,
   "id": "6c28e3d3-cfa2-4ea7-aff5-b2eb7cc4ce48",
   "metadata": {},
   "outputs": [],
   "source": [
    "J = MidPoint(sin, 1, 5, 7)"
   ]
  },
  {
   "cell_type": "code",
   "execution_count": 22,
   "id": "629403c3-a731-4882-9d8d-5d518bc1b328",
   "metadata": {},
   "outputs": [],
   "source": [
    "def MidPoint2(f, x0, xf, n):\n",
    "    \"\"\"\n",
    "     f: função a integrar\n",
    "    x0: inicio do intervalo de integração\n",
    "    xf: fim do interval de integração\n",
    "     n: número de subintervalos de integração\n",
    "    \"\"\"\n",
    "\n",
    "    # A soma das subáreas\n",
    "    soma = 0\n",
    "    \n",
    "    # O tamanho dos intervalos de integração\n",
    "    dx = (xf-x0)/n\n",
    "    \n",
    "    # O primerio ponto médio\n",
    "    x = x0+dx/2\n",
    "    \n",
    "    i = 0\n",
    "    for i in n:\n",
    "        soma += f(x)*dx\n",
    "        \n",
    "        x += dx\n",
    "        i \n",
    "        \n",
    "    \n",
    "    return soma"
   ]
  },
  {
   "cell_type": "code",
   "execution_count": 15,
   "id": "ca1e6ebb-11fb-424b-bfc7-aba2add3c9c8",
   "metadata": {},
   "outputs": [
    {
     "data": {
      "text/plain": [
       "0.2601653656815941"
      ]
     },
     "execution_count": 15,
     "metadata": {},
     "output_type": "execute_result"
    }
   ],
   "source": [
    "J"
   ]
  },
  {
   "cell_type": "code",
   "execution_count": null,
   "id": "28ae07ec-1fe7-4f05-81ff-65600cbfa48b",
   "metadata": {},
   "outputs": [],
   "source": []
  }
 ],
 "metadata": {
  "kernelspec": {
   "display_name": "Python 3 (ipykernel)",
   "language": "python",
   "name": "python3"
  },
  "language_info": {
   "codemirror_mode": {
    "name": "ipython",
    "version": 3
   },
   "file_extension": ".py",
   "mimetype": "text/x-python",
   "name": "python",
   "nbconvert_exporter": "python",
   "pygments_lexer": "ipython3",
   "version": "3.11.5"
  }
 },
 "nbformat": 4,
 "nbformat_minor": 5
}
