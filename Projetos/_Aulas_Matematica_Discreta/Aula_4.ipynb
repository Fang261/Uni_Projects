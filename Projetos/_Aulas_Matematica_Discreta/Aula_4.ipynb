{
 "cells": [
  {
   "cell_type": "markdown",
   "id": "66d74ff8-71c5-43da-a2f3-93fed904077d",
   "metadata": {},
   "source": []
  },
  {
   "cell_type": "code",
   "execution_count": 18,
   "id": "2f6ab2ec-e617-4d68-a347-4f2cb59d4aef",
   "metadata": {},
   "outputs": [],
   "source": [
    "#  2 3\n",
    "# -1 4\n",
    "#  5 2\n",
    "\n",
    "A = [ [2,3], [-1,4] ]"
   ]
  },
  {
   "cell_type": "code",
   "execution_count": 3,
   "id": "82785a50-cf87-4859-981f-caefc0762a40",
   "metadata": {},
   "outputs": [
    {
     "data": {
      "text/plain": [
       "3"
      ]
     },
     "execution_count": 3,
     "metadata": {},
     "output_type": "execute_result"
    }
   ],
   "source": [
    "# número de linhas\n",
    "len(A)"
   ]
  },
  {
   "cell_type": "code",
   "execution_count": 4,
   "id": "74d89f2f-be85-49e1-a37a-9ccdfb35c46b",
   "metadata": {},
   "outputs": [
    {
     "data": {
      "text/plain": [
       "[2, 3]"
      ]
     },
     "execution_count": 4,
     "metadata": {},
     "output_type": "execute_result"
    }
   ],
   "source": [
    "A[0]"
   ]
  },
  {
   "cell_type": "code",
   "execution_count": 6,
   "id": "2db958e7-33de-44c0-92f4-662f7d0fc1c3",
   "metadata": {},
   "outputs": [
    {
     "data": {
      "text/plain": [
       "2"
      ]
     },
     "execution_count": 6,
     "metadata": {},
     "output_type": "execute_result"
    }
   ],
   "source": [
    "# número de colunas\n",
    "len(A[0])"
   ]
  },
  {
   "cell_type": "code",
   "execution_count": 7,
   "id": "eb9abd67-0068-43e0-943a-48979898d99a",
   "metadata": {},
   "outputs": [
    {
     "data": {
      "text/plain": [
       "4"
      ]
     },
     "execution_count": 7,
     "metadata": {},
     "output_type": "execute_result"
    }
   ],
   "source": [
    "A[1][1]"
   ]
  },
  {
   "cell_type": "code",
   "execution_count": 16,
   "id": "4e11a52d-7dc1-4cd8-ada1-561a0c44d4f0",
   "metadata": {},
   "outputs": [],
   "source": [
    "def Zeros(l, c):\n",
    "    M = []\n",
    "    for i in range(l):\n",
    "        Col=[]\n",
    "        for j in range(c):\n",
    "            Col.append(0)\n",
    "        M.append(Col)\n",
    "    return M"
   ]
  },
  {
   "cell_type": "code",
   "execution_count": 37,
   "id": "012a3ef9-b2c4-453c-8635-cd757c4a5bb7",
   "metadata": {},
   "outputs": [
    {
     "data": {
      "text/plain": [
       "[[0, 0, 0], [0, 0, 0], [0, 0, 0], [0, 0, 0]]"
      ]
     },
     "execution_count": 37,
     "metadata": {},
     "output_type": "execute_result"
    }
   ],
   "source": [
    "Zeros(4, 3)"
   ]
  },
  {
   "cell_type": "code",
   "execution_count": 17,
   "id": "e0580206-05bb-4345-871d-1b9d146eb561",
   "metadata": {},
   "outputs": [],
   "source": [
    "def Inverse(M):\n",
    "    \"\"\" Asume que M é diagonal\"\"\"\n",
    "    R = Zeros(len(M), len(M[0]))\n",
    "    for i in range(len(M)):\n",
    "        R[i][i] = 1/M[i][i]\n",
    "    return R    "
   ]
  },
  {
   "cell_type": "code",
   "execution_count": 19,
   "id": "5c9a4f22-a97c-474a-8682-88aa5f96bd09",
   "metadata": {},
   "outputs": [
    {
     "data": {
      "text/plain": [
       "[[0.5, 0], [0, 0.25]]"
      ]
     },
     "execution_count": 19,
     "metadata": {},
     "output_type": "execute_result"
    }
   ],
   "source": [
    "Inverse(A)\n"
   ]
  },
  {
   "cell_type": "code",
   "execution_count": 42,
   "id": "e4b84a90-7946-48b0-a4f3-30747b30a164",
   "metadata": {},
   "outputs": [],
   "source": [
    "def Decompose(M):\n",
    "    D = Zeros(len(M), len(M[0]))\n",
    "    N = Zeros(len(M), len(M[0]))\n",
    "\n",
    "    for i in range(len(M)):\n",
    "        for j in range(len(M)):\n",
    "            if i == j:\n",
    "                D[i][j] = M[i][j]\n",
    "            else:\n",
    "                N[i][j] = M[i][j]\n",
    "\n",
    "    return D, N"
   ]
  },
  {
   "cell_type": "code",
   "execution_count": 43,
   "id": "e084666e-4b70-4a40-b3fa-d89081d6431c",
   "metadata": {},
   "outputs": [],
   "source": [
    "A = [ [1, 4, 5],\n",
    "      [6, 2, 7],\n",
    "      [8, 9, 3]]"
   ]
  },
  {
   "cell_type": "code",
   "execution_count": 44,
   "id": "32113bbb-dd55-41e4-8373-46379000cd06",
   "metadata": {},
   "outputs": [
    {
     "data": {
      "text/plain": [
       "[[1, 4, 5], [6, 2, 7], [8, 9, 3]]"
      ]
     },
     "execution_count": 44,
     "metadata": {},
     "output_type": "execute_result"
    }
   ],
   "source": [
    "A"
   ]
  },
  {
   "cell_type": "code",
   "execution_count": 45,
   "id": "5414a91f-47e4-48bc-83f2-d37be63b1729",
   "metadata": {},
   "outputs": [],
   "source": [
    "D, N = Decompose(A)"
   ]
  },
  {
   "cell_type": "code",
   "execution_count": 46,
   "id": "795fa6ba-e6e1-452a-8924-c4cb290dac6b",
   "metadata": {},
   "outputs": [
    {
     "data": {
      "text/plain": [
       "[[1, 0, 0], [0, 2, 0], [0, 0, 3]]"
      ]
     },
     "execution_count": 46,
     "metadata": {},
     "output_type": "execute_result"
    }
   ],
   "source": [
    "D"
   ]
  },
  {
   "cell_type": "code",
   "execution_count": 47,
   "id": "9ce2d5bd-35b4-4e14-8baf-13aceb11255c",
   "metadata": {},
   "outputs": [
    {
     "data": {
      "text/plain": [
       "[[0, 4, 5], [6, 0, 7], [8, 9, 0]]"
      ]
     },
     "execution_count": 47,
     "metadata": {},
     "output_type": "execute_result"
    }
   ],
   "source": [
    "N"
   ]
  },
  {
   "cell_type": "code",
   "execution_count": 54,
   "id": "4932d7c9-b3e7-4024-bd92-598dea2c6c79",
   "metadata": {},
   "outputs": [],
   "source": [
    "def Dif(A, B):\n",
    "    R = Zeros(len(A), len(A[0]))\n",
    "\n",
    "    for i in range(len(A)):\n",
    "        for j in range(len(A[0])):\n",
    "            R[i][j] = A[i][j]-B[i][j]\n",
    "    return R"
   ]
  },
  {
   "cell_type": "code",
   "execution_count": 49,
   "id": "c37aebef-ad35-4e3b-9124-08db0b9125eb",
   "metadata": {},
   "outputs": [],
   "source": [
    "B = [ [3, 9, 2],\n",
    "      [4, 8, 3],\n",
    "      [6, 7, 1]]"
   ]
  },
  {
   "cell_type": "code",
   "execution_count": 55,
   "id": "233e4c17-3e9b-43fb-96b2-bc9becbde469",
   "metadata": {},
   "outputs": [
    {
     "data": {
      "text/plain": [
       "[[-2, -5, 3], [2, -6, 4], [2, 2, 2]]"
      ]
     },
     "execution_count": 55,
     "metadata": {},
     "output_type": "execute_result"
    }
   ],
   "source": [
    "Dif(A, B)"
   ]
  },
  {
   "cell_type": "code",
   "execution_count": 60,
   "id": "4865703d-1495-4f64-9698-b1e25c9f12d5",
   "metadata": {},
   "outputs": [],
   "source": []
  },
  {
   "cell_type": "code",
   "execution_count": 62,
   "id": "99469241-705c-4b15-8304-a32b90adcae1",
   "metadata": {},
   "outputs": [],
   "source": [
    "J = Zeros(4, 3)"
   ]
  },
  {
   "cell_type": "code",
   "execution_count": 63,
   "id": "6f76dfa9-aedd-4cb9-975c-591021a78a04",
   "metadata": {},
   "outputs": [
    {
     "data": {
      "text/plain": [
       "4"
      ]
     },
     "execution_count": 63,
     "metadata": {},
     "output_type": "execute_result"
    }
   ],
   "source": [
    "len(J)\n"
   ]
  },
  {
   "cell_type": "code",
   "execution_count": 64,
   "id": "3e436ae1-c463-4300-95b5-e5e45d985565",
   "metadata": {},
   "outputs": [
    {
     "data": {
      "text/plain": [
       "[[0, 0, 0], [0, 0, 0], [0, 0, 0], [0, 0, 0]]"
      ]
     },
     "execution_count": 64,
     "metadata": {},
     "output_type": "execute_result"
    }
   ],
   "source": [
    "J"
   ]
  },
  {
   "cell_type": "code",
   "execution_count": 66,
   "id": "1b8c118f-9872-416d-8c90-8439b0e14851",
   "metadata": {},
   "outputs": [],
   "source": [
    "def Dif(A, B):\n",
    "    C = Zeros(len(A), len(B[0]))\n",
    "\n",
    "    for i in range(len(C)):\n",
    "        for j in range(len(C[0])):\n",
    "            C[i][j] = Dot( A[i], Col(B, j) )\n",
    "    return C"
   ]
  },
  {
   "cell_type": "code",
   "execution_count": 69,
   "id": "99f2b8d9-afab-420c-8a79-90343a652a0d",
   "metadata": {},
   "outputs": [],
   "source": [
    "def Col(A, c):\n",
    "    return [row[c] for row in A]"
   ]
  },
  {
   "cell_type": "code",
   "execution_count": 72,
   "id": "c4ec6cf1-77a7-42f1-b9c1-8fc59d5a6b7d",
   "metadata": {},
   "outputs": [
    {
     "data": {
      "text/plain": [
       "[[1, 4, 5], [6, 2, 7], [8, 9, 3]]"
      ]
     },
     "execution_count": 72,
     "metadata": {},
     "output_type": "execute_result"
    }
   ],
   "source": [
    "A"
   ]
  },
  {
   "cell_type": "code",
   "execution_count": 73,
   "id": "0496680c-1e06-4a65-ae1e-2a8f015efe39",
   "metadata": {},
   "outputs": [
    {
     "data": {
      "text/plain": [
       "[6, 2, 7]"
      ]
     },
     "execution_count": 73,
     "metadata": {},
     "output_type": "execute_result"
    }
   ],
   "source": [
    "A[1]"
   ]
  },
  {
   "cell_type": "code",
   "execution_count": 74,
   "id": "44bc11f2-2890-404f-8155-00fe19cf882e",
   "metadata": {},
   "outputs": [
    {
     "data": {
      "text/plain": [
       "[4, 2, 9]"
      ]
     },
     "execution_count": 74,
     "metadata": {},
     "output_type": "execute_result"
    }
   ],
   "source": [
    "Col(A, 1)"
   ]
  },
  {
   "cell_type": "code",
   "execution_count": 71,
   "id": "63482bef-01a4-4dd3-a90f-1107e9092a7c",
   "metadata": {},
   "outputs": [],
   "source": [
    "def Dot(a, b):\n",
    "    soma = 0\n",
    "\n",
    "    for i in range(len(A)):\n",
    "        soma += a[i]*b[i]\n",
    "\n",
    "    return soma\n",
    "    "
   ]
  },
  {
   "cell_type": "code",
   "execution_count": null,
   "id": "bc7d6275-de2d-4722-8abd-c428357119b5",
   "metadata": {},
   "outputs": [],
   "source": []
  },
  {
   "cell_type": "code",
   "execution_count": null,
   "id": "a39f03f3-5d99-4c9e-aef0-0bcc1977a1df",
   "metadata": {},
   "outputs": [],
   "source": []
  }
 ],
 "metadata": {
  "kernelspec": {
   "display_name": "Python 3 (ipykernel)",
   "language": "python",
   "name": "python3"
  },
  "language_info": {
   "codemirror_mode": {
    "name": "ipython",
    "version": 3
   },
   "file_extension": ".py",
   "mimetype": "text/x-python",
   "name": "python",
   "nbconvert_exporter": "python",
   "pygments_lexer": "ipython3",
   "version": "3.11.5"
  }
 },
 "nbformat": 4,
 "nbformat_minor": 5
}
