{
 "cells": [
  {
   "cell_type": "code",
   "execution_count": 6,
   "id": "9cc2cbf1-7fac-4225-badd-b3c2fd8abbfb",
   "metadata": {},
   "outputs": [],
   "source": [
    "def MidPoint(f, x0, xf, n):\n",
    "    dx = (xf-x0)/n\n",
    "\n",
    "    soma=0\n",
    "    x=x0+dx/2\n",
    "    i=0\n",
    "    while i<n:\n",
    "        soma+=dx*f(x)\n",
    "        x+=dx\n",
    "        i+=1\n",
    "    return soma"
   ]
  },
  {
   "cell_type": "code",
   "execution_count": 3,
   "id": "1f9b5f48-33d3-41b6-a4a6-c042c88897c4",
   "metadata": {},
   "outputs": [],
   "source": [
    "from math import sin, sqrt, pi\n"
   ]
  },
  {
   "cell_type": "code",
   "execution_count": 11,
   "id": "49ed9bb0-ca8f-492a-9b2f-f61e6c2a275e",
   "metadata": {},
   "outputs": [
    {
     "name": "stdout",
     "output_type": "stream",
     "text": [
      "0.19416110387254662\n",
      "1.3308000038220311\n",
      "2.033281476926104\n"
     ]
    },
    {
     "data": {
      "text/plain": [
       "2.033281476926104"
      ]
     },
     "execution_count": 11,
     "metadata": {},
     "output_type": "execute_result"
    }
   ],
   "source": [
    "MidPoint(sin, 0, pi, 5)"
   ]
  },
  {
   "cell_type": "code",
   "execution_count": 14,
   "id": "1e4ef219-f6ac-479f-a0c1-f9e574664eb7",
   "metadata": {},
   "outputs": [],
   "source": [
    "def MidPoint3D(f, x0, xf, y0, yf, n):\n",
    "    dx = (xf-x0)/n\n",
    "    dy = (yf-y0)/n\n",
    "\n",
    "    soma=0\n",
    "    x=x0+dx/2\n",
    "    i=0\n",
    "    while i<n:\n",
    "        j=0\n",
    "        y= y0+dy/2\n",
    "        while j<n:\n",
    "            soma+=dx*f(x)\n",
    "            y+=dy\n",
    "            j+=1\n",
    "        x+=dx\n",
    "        i+=1\n",
    "    return soma"
   ]
  },
  {
   "cell_type": "code",
   "execution_count": 15,
   "id": "e443cdde-1621-4af9-bbb9-451b8e7b7a29",
   "metadata": {},
   "outputs": [],
   "source": [
    "def Paraboloid(x, y):\n",
    "    return 4-x**2-y**2"
   ]
  },
  {
   "cell_type": "code",
   "execution_count": null,
   "id": "5566637b-27b8-4117-aa65-38527d8713e4",
   "metadata": {},
   "outputs": [],
   "source": []
  },
  {
   "cell_type": "code",
   "execution_count": null,
   "id": "096c07f7-9f2a-4bbe-b589-267aa36565a6",
   "metadata": {},
   "outputs": [],
   "source": []
  }
 ],
 "metadata": {
  "kernelspec": {
   "display_name": "Python 3 (ipykernel)",
   "language": "python",
   "name": "python3"
  },
  "language_info": {
   "codemirror_mode": {
    "name": "ipython",
    "version": 3
   },
   "file_extension": ".py",
   "mimetype": "text/x-python",
   "name": "python",
   "nbconvert_exporter": "python",
   "pygments_lexer": "ipython3",
   "version": "3.11.5"
  }
 },
 "nbformat": 4,
 "nbformat_minor": 5
}
